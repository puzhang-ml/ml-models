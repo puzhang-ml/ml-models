{
 "cells": [
  {
   "cell_type": "markdown",
   "metadata": {},
   "source": [
    "Pu pratices his Pytorch skills by writing a classification algorithm using Pytorch. He also uses sklearn's LabelEncoder to transform categorical features. This is based on the tutorial on this page: https://machinelearningmastery.com/use-pytorch-deep-learning-models-with-scikit-learn/"
   ]
  },
  {
   "cell_type": "code",
   "execution_count": 83,
   "metadata": {},
   "outputs": [],
   "source": [
    "import pandas as pd\n",
    "import numpy as np\n",
    "from sklearn.model_selection import train_test_split\n",
    "from sklearn.preprocessing import LabelEncoder\n",
    "import torch\n",
    "\n",
    "# read the data\n",
    "data = pd.read_csv(\"../data/label-encoder/sonar.csv\")\n",
    "X = data.iloc[:, :60]\n",
    "y = data.iloc[:, 60]\n",
    "\n",
    "encoder = LabelEncoder()\n",
    "encoder.fit(y)\n",
    "y = encoder.transform(y)\n",
    "\n",
    "\n",
    "X = torch.tensor(X.values, dtype=torch.float32)\n",
    "y = torch.tensor(y, dtype=torch.float32)"
   ]
  },
  {
   "cell_type": "code",
   "execution_count": 84,
   "metadata": {},
   "outputs": [],
   "source": [
    "# define the model\n",
    "import torch.nn as nn\n",
    "\n",
    "class SonarClassifier(nn.Module):\n",
    "    def __init__(self):\n",
    "        super().__init__()\n",
    "        self.layer1 = nn.Linear(60, 60)\n",
    "        self.act1 = nn.ReLU()\n",
    "        self.layer2 = nn.Linear(60, 60)\n",
    "        self.act2 = nn.ReLU()\n",
    "        self.layer3 = nn.Linear(60, 60)\n",
    "        self.act3 = nn.ReLU()\n",
    "        self.output = nn.Linear(60, 1)\n",
    "\n",
    "    def forward(self, x):\n",
    "        x = self.act1(self.layer1(x))\n",
    "        x = self.act2(self.layer2(x))\n",
    "        x = self.act3(self.layer3(x))\n",
    "        x = self.output(x)\n",
    "        return x"
   ]
  },
  {
   "cell_type": "code",
   "execution_count": 85,
   "metadata": {},
   "outputs": [
    {
     "name": "stdout",
     "output_type": "stream",
     "text": [
      "debug 8\n",
      "Epoch: [0/30], Loss: 0.70, Accuracy: 52.74%, Precision: 0.00%, Recall: 0.00%, F1: 0.00%\n"
     ]
    },
    {
     "name": "stderr",
     "output_type": "stream",
     "text": [
      "C:\\Users\\Pu Zhang\\anaconda3\\envs\\pytorch\\lib\\site-packages\\sklearn\\metrics\\_classification.py:1344: UndefinedMetricWarning: Precision is ill-defined and being set to 0.0 due to no predicted samples. Use `zero_division` parameter to control this behavior.\n",
      "  _warn_prf(average, modifier, msg_start, len(result))\n"
     ]
    },
    {
     "name": "stdout",
     "output_type": "stream",
     "text": [
      "Epoch: [6/30], Loss: 0.14, Accuracy: 69.18%, Precision: 62.50%, Recall: 86.96%, F1: 72.73%\n",
      "Epoch: [12/30], Loss: 0.66, Accuracy: 76.71%, Precision: 74.65%, Recall: 76.81%, F1: 75.71%\n",
      "Epoch: [18/30], Loss: 0.46, Accuracy: 73.97%, Precision: 80.39%, Recall: 59.42%, F1: 68.33%\n",
      "Epoch: [24/30], Loss: 0.25, Accuracy: 75.34%, Precision: 78.95%, Recall: 65.22%, F1: 71.43%\n"
     ]
    }
   ],
   "source": [
    "import torch.optim as optim\n",
    "from torch.utils.data import TensorDataset, DataLoader\n",
    "from sklearn.metrics import precision_score, recall_score, f1_score, accuracy_score\n",
    "\n",
    "batch_size = 8\n",
    "learning_rate = 0.01\n",
    "num_epochs = 30\n",
    "\n",
    "X_train, X_test, y_train, y_test = train_test_split(X, y, test_size=0.7, shuffle=True)\n",
    "train, test = TensorDataset(X_train, y_train), TensorDataset(X_test, y_test)\n",
    "train_loader = DataLoader(train, batch_size=batch_size, shuffle=True)\n",
    "test_loader = DataLoader(test, batch_size=batch_size, shuffle=False)\n",
    "\n",
    "model = SonarClassifier()\n",
    "optimizer = optim.Adam(model.parameters(), lr=learning_rate)\n",
    "loss_fn = nn.BCEWithLogitsLoss()\n",
    "device = torch.device('cuda' if torch.cuda.is_available() else 'cpu')\n",
    "\n",
    "model = model.to(device)\n",
    "\n",
    "print('debug', len(train_loader))\n",
    "\n",
    "for epoch in range(num_epochs):\n",
    "    model.train()\n",
    "    for i, (inputs, targets) in enumerate(train_loader):\n",
    "        inputs = inputs.to(device)\n",
    "        targets = targets.to(device).view(-1, 1)\n",
    "        outputs = model(inputs)\n",
    "        loss = loss_fn(outputs, targets)\n",
    "        optimizer.zero_grad()\n",
    "        loss.backward()\n",
    "        optimizer.step()\n",
    "    model.eval()\n",
    "\n",
    "    if epoch % 6 == 0:\n",
    "        with torch.no_grad():\n",
    "            all_preds, all_labels = [], []\n",
    "            for inputs, targets in test_loader:\n",
    "                inputs = inputs.to(device)\n",
    "                targets = targets.to(device).view(-1, 1)\n",
    "                outputs = model(inputs)\n",
    "                predicted = torch.round(torch.sigmoid(outputs))\n",
    "                all_preds.extend(predicted.cpu().numpy())\n",
    "                all_labels.extend(targets.cpu().numpy())\n",
    "                num_correct += (predicted == targets).float().sum().item()\n",
    "                num_samples += targets.size(0)\n",
    "\n",
    "            precision = precision_score(all_labels, all_preds)\n",
    "            recall = recall_score(all_labels, all_preds)\n",
    "            f1 = f1_score(all_labels, all_preds)\n",
    "            accuracy = accuracy_score(all_labels, all_preds)\n",
    "            print(f\"Epoch: [{epoch}/{num_epochs}], Loss: {loss.item():.2f}, Accuracy: {accuracy * 100:.2f}%, Precision: {precision * 100:.2f}%, Recall: {recall * 100:.2f}%, F1: {f1 * 100:.2f}%\")\n"
   ]
  },
  {
   "cell_type": "code",
   "execution_count": null,
   "metadata": {},
   "outputs": [],
   "source": []
  }
 ],
 "metadata": {
  "kernelspec": {
   "display_name": "Python 3 (ipykernel)",
   "language": "python",
   "name": "python3"
  },
  "language_info": {
   "codemirror_mode": {
    "name": "ipython",
    "version": 3
   },
   "file_extension": ".py",
   "mimetype": "text/x-python",
   "name": "python",
   "nbconvert_exporter": "python",
   "pygments_lexer": "ipython3",
   "version": "3.10.11"
  },
  "orig_nbformat": 4
 },
 "nbformat": 4,
 "nbformat_minor": 2
}
