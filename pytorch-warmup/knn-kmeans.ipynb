{
 "cells": [
  {
   "cell_type": "markdown",
   "metadata": {},
   "source": [
    "In this notebook, Pu will pratice his Pytorch skills by writing the knn/kmeans algorithm in Pytorch. This is based on the tutorial here: https://gist.github.com/wzjoriv/7e89afc7f30761022d7747a501260fe3"
   ]
  },
  {
   "cell_type": "code",
   "execution_count": 1,
   "metadata": {},
   "outputs": [],
   "source": [
    "import torch\n",
    "\n",
    "def randomize_tensor(tensor):\n",
    "    return tensor[torch.randperm(len(tensor))]\n",
    "\n",
    "def distance_matrix(x, y=None, p=2):\n",
    "    # pairwise distance of vectors\n",
    "    y = x if type(y) == type(None) else y\n",
    "    \n",
    "    n = x.size(0)\n",
    "    m = y.size(0)\n",
    "    d = x.size(1)\n",
    "\n",
    "    x = x.unsqueeze(1).expand(n, m, d)\n",
    "    y = y.unsqueeze(0).expand(n, m, d)\n",
    "\n",
    "    dist = torch.pow(x - y, 2).sum(2)**(1/p)\n",
    "\n",
    "    return dist\n",
    "\n",
    "class NN:\n",
    "    def __init__(self, X=None, Y=None, p=2):\n",
    "        self.p = p\n",
    "        self.train(X, Y)\n",
    "\n",
    "    def train(self, X, Y):\n",
    "        self.train_pts = X\n",
    "        self.train_label = Y\n",
    "\n",
    "    def __call__(self, x):\n",
    "        return self.predict(x)\n",
    "\n",
    "    def predict(self, x):\n",
    "        dist = distance_matrix(x, self.train_pts, self.p)\n",
    "        labels = torch.argmin(dist, dim=1)\n",
    "        return self.train_label[labels]\n",
    "\n",
    "class KNN(NN):\n",
    "    def __init__(self, X=None, Y=None, k=3, p=2):\n",
    "        self.k = k\n",
    "        super().__init__(X, Y, p)\n",
    "\n",
    "    def train(self, X, Y):\n",
    "        super().train(X, Y)\n",
    "        if type(Y) != type(None):\n",
    "            self.unique_labels = self.train_label.unique()\n",
    "\n",
    "    def predict(self, x):\n",
    "        dist = distance_matrix(x, self.train_pts, self.p)\n",
    "        knn = dist.topk(self.k, largest=False)\n",
    "        votes = self.train_label[knn.indices]\n",
    "        winner = torch.zeros(votes.size(0), dtype=votes.dtype, device=votes.device)\n",
    "        count = torch.zeros(votes.size(0), dtype=votes.dtype, device=votes.device) - 1\n",
    "        for lab in self.unique_labels:\n",
    "            vote_count = (votes == lab).sum(1)\n",
    "            who = vote_count >= count\n",
    "            winner[who] = lab\n",
    "            count[who] = vote_count[who]\n",
    "        return winner\n",
    "\n",
    "class KMeans(NN):\n",
    "    def __init__(self, X=None, k=2, n_iters=10, p=2):\n",
    "        self.k = k\n",
    "        self.n_iters = n_iters\n",
    "        self.p = p\n",
    "        if type(X) != None:\n",
    "            self.train(X)\n",
    "\n",
    "    def train(self, X):\n",
    "        self.train_pts = randomize_tensor(X)[:self.k]\n",
    "        self.train_label = torch.LongTensor(range(self.k))\n",
    "        for _ in range(self.n_iters):\n",
    "            labels = self.predict(X)\n",
    "            for lab in range(self.k):\n",
    "                select = labels == lab\n",
    "                self.train_pts[lab] = torch.mean(X[select], dim=0)"
   ]
  },
  {
   "cell_type": "code",
   "execution_count": 2,
   "metadata": {},
   "outputs": [
    {
     "name": "stdout",
     "output_type": "stream",
     "text": [
      "tensor([5, 3])\n"
     ]
    }
   ],
   "source": [
    "a = torch.Tensor([\n",
    "    [1, 1],\n",
    "    [0.88, 0.9],\n",
    "    [-1, -1],\n",
    "    [-1, -0.88]\n",
    "])\n",
    "b = torch.LongTensor([3, 3, 5, 5])\n",
    "c = torch.Tensor([\n",
    "    [-0.5, -0.5],\n",
    "    [0.88, 0.88]\n",
    "])\n",
    "knn = KNN(a, b)\n",
    "print(knn(c))"
   ]
  },
  {
   "cell_type": "code",
   "execution_count": null,
   "metadata": {},
   "outputs": [],
   "source": []
  }
 ],
 "metadata": {
  "kernelspec": {
   "display_name": "Python 3 (ipykernel)",
   "language": "python",
   "name": "python3"
  },
  "language_info": {
   "codemirror_mode": {
    "name": "ipython",
    "version": 3
   },
   "file_extension": ".py",
   "mimetype": "text/x-python",
   "name": "python",
   "nbconvert_exporter": "python",
   "pygments_lexer": "ipython3",
   "version": "3.10.11"
  },
  "orig_nbformat": 4
 },
 "nbformat": 4,
 "nbformat_minor": 2
}
